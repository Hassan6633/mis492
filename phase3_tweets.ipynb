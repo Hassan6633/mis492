{
 "cells": [
  {
   "cell_type": "markdown",
   "metadata": {},
   "source": [
    "| **Variables**    | **Description**                                                  |**Data type**      | ** Notes**         |\n",
    "|------------------|:----------------------------------------------------------------:|:-----------------:|-------------------:|\n",
    "|craeted_at        |date the tweet was created                                        |datetime, continuous| converted from object to datetime|\n",
    "|entities          |any entity the tweet has (hashtags, symbols, mentions)            |object, categorical|                    |\n",
    "|favorite_count    |number of likes the tweet has                                     |float64, continuous|                    |\n",
    "|id                |id of the tweet                                                   |float64, continuous|                    |\n",
    "|in_reply_to_screen_name| if the tweet has reply (show screen name)                   |object, categorical|                    | \n",
    "|in_reply_to_status_id|if the tweet has reply (show tweet id)                         |float64, continuous|                    | \n",
    "|in_reply_to_user_id|if the tweet has reply (show user id)                            |float64, continuous|                    |\n",
    "|place             |place the tweet was tweeted from                                  |object, categorical| all the data was NaN so i excluded the column|\n",
    "|possibly_sensitive|if there are any sensitive content in the tweet                   |object, categorical|  all the data was False so i excluded the column|\n",
    "|retweet_count     |number of retweets                                                |float64, continuous| \n",
    "|text              |the text of the tweet                                             |object, categorical|                    |\n",
    "|name              |the name of the neawspaper                                        |object, categorical| i added this column|\n",
    "|retweet_mean      |average number of retweets                                        |float64, continuous| i added thid column|"
   ]
  },
  {
   "cell_type": "markdown",
   "metadata": {},
   "source": [
    "- there are 23155 date, 22747 of them is unique, the top is 2017-02-22 20:05:04 with freq of 5.\n",
    "  - count                   23155\n",
    "  - unique                  22747\n",
    "  - top       2017-02-22 20:05:04\n",
    "  - freq                        5\n",
    "  \n",
    "- there are 23155 value of entities, 22099 of them are unique, the top is {'hashtags': [], 'symbols': [], 'user_mentions': [], 'urls': []} with freq of 603.\n",
    "  - count                                                 23155\n",
    "  - unique                                                22099\n",
    "  - top       {'hashtags': [], 'symbols': [], 'user_mentions...\n",
    "  - freq                                                  603  \n",
    "  \n",
    "- there are 23155 value of favorite_count with mean of(2.128568), max(2015.000000), min(0.000000)\n",
    "  - count    23155.000000\n",
    "  - mean         2.128568\n",
    "  - std         16.904183\n",
    "  - min          0.000000\n",
    "  - 25%          0.000000\n",
    "  - 50%          1.000000\n",
    "  - 75%          2.000000\n",
    "  - max       2015.000000\n",
    "  \n",
    "- these numbers are meaningless since this is just an (id) except the count which represent the number of ids we have \n",
    "  - count    2.315500e+04\n",
    "  - mean     9.794991e+17\n",
    "  - std      4.117512e+16\n",
    "  - min      6.757187e+17\n",
    "  - 25%      9.837335e+17\n",
    "  - 50%      9.864680e+17\n",
    "  - 75%      9.892307e+17\n",
    "  - max      9.918028e+17\n",
    "  \n",
    "- there are 60 tweets that has reply, the tweets of 4 defferent newspapers, the newspapers that has the most replys on its tweets is AlseyassahNews with 41 tweets that has reply\n",
    "  - count                 60\n",
    "  - unique                 4\n",
    "  - top       AlseyassahNews\n",
    "  - freq                  41\n",
    "  \n",
    "- this column(in_reply_to_status_id) has 60 value\n",
    "  - count    6.000000e+01\n",
    "  - mean     9.810572e+17\n",
    "  - std      1.101162e+16\n",
    "  - min      9.138978e+17\n",
    "  - 25%      9.768778e+17\n",
    "  - 50%      9.836585e+17\n",
    "  - 75%      9.878681e+17\n",
    "  - max      9.917926e+17\n",
    "  \n",
    "- this column(in_reply_to_user_id) has 60 value \n",
    "  - count    6.000000e+01\n",
    "  - mean     2.484898e+08\n",
    "  - std      2.650336e+08\n",
    "  - min      7.000638e+07\n",
    "  - 25%      1.509726e+08\n",
    "  - 50%      2.660159e+08\n",
    "  - 75%      2.660159e+08\n",
    "  - max      2.175857e+09\n",
    "  \n",
    "- there are 23155 of the column(retweet_count), the mean of retweets is(5.116519), max(7635.000000), min(0.000000)\n",
    "  - count    23155.000000\n",
    "  - mean         5.116519\n",
    "  - std         63.617464\n",
    "  - min          0.000000\n",
    "  - 25%          0.000000\n",
    "  - 50%          1.000000\n",
    "  - 75%          2.000000\n",
    "  - max       7635.000000\n",
    "  \n",
    "- there are 23155 tweets, 23010 of them are unique, the top tweet is( #الصوت | فـضيحة مالـية ورقـابية .. تهز\\n#التطب...), it was repeated(5 times)\n",
    "  - count                                                 23155\n",
    "  - unique                                                23010\n",
    "  - top       #الصوت | فـضيحة مالـية ورقـابية .. تهز\\n#التطب...\n",
    "  - freq                                                      5\n",
    "  \n",
    "- there are 23155 value of name with unique value of 8, the top value is alanba with freq of 3200\n",
    "  - count      23155\n",
    "  - unique         8\n",
    "  - top       alanba\n",
    "  - freq        3200"
   ]
  },
  {
   "cell_type": "markdown",
   "metadata": {},
   "source": [
    "- alseyaseyah has people reply more than other newspapers but retweets less than other people \n",
    "     \n",
    "- the cause may be that the people is replying with somthing they didn't like about the tweet \n",
    "\n",
    "- alwatan have above average number of retweets and alseyassah have below average number of retweets\n",
    "\n",
    "- even tho aldaar is below average it has the most retweets as outlayers \n",
    "- alwatan have the highest average of tweets likes (is it because people like the tweets more than other newspapers tweets or because it have more follwers?)"
   ]
  },
  {
   "cell_type": "code",
   "execution_count": 78,
   "metadata": {
    "collapsed": true
   },
   "outputs": [],
   "source": [
    "import matplotlib.pyplot as plt\n",
    "import pandas as pd\n",
    "import seaborn as sns\n",
    "import numpy as np\n",
    "%matplotlib inline\n",
    "import matplotlib.dates as mdates"
   ]
  },
  {
   "cell_type": "code",
   "execution_count": 3,
   "metadata": {
    "collapsed": true
   },
   "outputs": [],
   "source": [
    "tweets_df = pd.read_csv(\"tweets_df.csv\", encoding=\"utf-8\")"
   ]
  },
  {
   "cell_type": "code",
   "execution_count": 3,
   "metadata": {},
   "outputs": [
    {
     "data": {
      "text/html": [
       "<div>\n",
       "<style>\n",
       "    .dataframe thead tr:only-child th {\n",
       "        text-align: right;\n",
       "    }\n",
       "\n",
       "    .dataframe thead th {\n",
       "        text-align: left;\n",
       "    }\n",
       "\n",
       "    .dataframe tbody tr th {\n",
       "        vertical-align: top;\n",
       "    }\n",
       "</style>\n",
       "<table border=\"1\" class=\"dataframe\">\n",
       "  <thead>\n",
       "    <tr style=\"text-align: right;\">\n",
       "      <th></th>\n",
       "      <th>0</th>\n",
       "      <th>1</th>\n",
       "      <th>2</th>\n",
       "      <th>3</th>\n",
       "      <th>4</th>\n",
       "    </tr>\n",
       "  </thead>\n",
       "  <tbody>\n",
       "    <tr>\n",
       "      <th>created_at</th>\n",
       "      <td>2018-05-02 21:40:52</td>\n",
       "      <td>2018-05-02 21:35:33</td>\n",
       "      <td>2018-05-02 21:30:48</td>\n",
       "      <td>2018-05-02 21:27:22</td>\n",
       "      <td>2018-05-02 21:24:03</td>\n",
       "    </tr>\n",
       "    <tr>\n",
       "      <th>entities</th>\n",
       "      <td>{'hashtags': [], 'symbols': [], 'user_mentions...</td>\n",
       "      <td>{'hashtags': [], 'symbols': [], 'user_mentions...</td>\n",
       "      <td>{'hashtags': [], 'symbols': [], 'user_mentions...</td>\n",
       "      <td>{'hashtags': [], 'symbols': [], 'user_mentions...</td>\n",
       "      <td>{'hashtags': [], 'symbols': [], 'user_mentions...</td>\n",
       "    </tr>\n",
       "    <tr>\n",
       "      <th>favorite_count</th>\n",
       "      <td>0</td>\n",
       "      <td>2</td>\n",
       "      <td>4</td>\n",
       "      <td>1</td>\n",
       "      <td>0</td>\n",
       "    </tr>\n",
       "    <tr>\n",
       "      <th>id</th>\n",
       "      <td>991794679770484737</td>\n",
       "      <td>991793339270860809</td>\n",
       "      <td>991792142912802817</td>\n",
       "      <td>991791279846711301</td>\n",
       "      <td>991790445935169537</td>\n",
       "    </tr>\n",
       "    <tr>\n",
       "      <th>in_reply_to_screen_name</th>\n",
       "      <td>NaN</td>\n",
       "      <td>NaN</td>\n",
       "      <td>NaN</td>\n",
       "      <td>NaN</td>\n",
       "      <td>NaN</td>\n",
       "    </tr>\n",
       "    <tr>\n",
       "      <th>in_reply_to_status_id</th>\n",
       "      <td>NaN</td>\n",
       "      <td>NaN</td>\n",
       "      <td>NaN</td>\n",
       "      <td>NaN</td>\n",
       "      <td>NaN</td>\n",
       "    </tr>\n",
       "    <tr>\n",
       "      <th>in_reply_to_user_id</th>\n",
       "      <td>NaN</td>\n",
       "      <td>NaN</td>\n",
       "      <td>NaN</td>\n",
       "      <td>NaN</td>\n",
       "      <td>NaN</td>\n",
       "    </tr>\n",
       "    <tr>\n",
       "      <th>place</th>\n",
       "      <td>NaN</td>\n",
       "      <td>NaN</td>\n",
       "      <td>NaN</td>\n",
       "      <td>NaN</td>\n",
       "      <td>NaN</td>\n",
       "    </tr>\n",
       "    <tr>\n",
       "      <th>possibly_sensitive</th>\n",
       "      <td>False</td>\n",
       "      <td>False</td>\n",
       "      <td>False</td>\n",
       "      <td>False</td>\n",
       "      <td>False</td>\n",
       "    </tr>\n",
       "    <tr>\n",
       "      <th>retweet_count</th>\n",
       "      <td>4</td>\n",
       "      <td>1</td>\n",
       "      <td>1</td>\n",
       "      <td>1</td>\n",
       "      <td>1</td>\n",
       "    </tr>\n",
       "    <tr>\n",
       "      <th>text</th>\n",
       "      <td>محكمة أمريكية تأمر إيران بدفع 6 مليارات دولار ...</td>\n",
       "      <td>90 % من سكان العالم يتنشقون هواء ملوثا\\n\\nhttp...</td>\n",
       "      <td>وصول الطائرة «فيلكا» بعد استكمال صيانتها في «ب...</td>\n",
       "      <td>اختبارات الثانوية.. الأحد\\n\\nhttps://t.co/Xe12...</td>\n",
       "      <td>أمير قطر يتسلم رسالة خطية من سمو الأمير\\n\\nhtt...</td>\n",
       "    </tr>\n",
       "    <tr>\n",
       "      <th>name</th>\n",
       "      <td>alwatan</td>\n",
       "      <td>alwatan</td>\n",
       "      <td>alwatan</td>\n",
       "      <td>alwatan</td>\n",
       "      <td>alwatan</td>\n",
       "    </tr>\n",
       "  </tbody>\n",
       "</table>\n",
       "</div>"
      ],
      "text/plain": [
       "                                                                         0  \\\n",
       "created_at                                             2018-05-02 21:40:52   \n",
       "entities                 {'hashtags': [], 'symbols': [], 'user_mentions...   \n",
       "favorite_count                                                           0   \n",
       "id                                                      991794679770484737   \n",
       "in_reply_to_screen_name                                                NaN   \n",
       "in_reply_to_status_id                                                  NaN   \n",
       "in_reply_to_user_id                                                    NaN   \n",
       "place                                                                  NaN   \n",
       "possibly_sensitive                                                   False   \n",
       "retweet_count                                                            4   \n",
       "text                     محكمة أمريكية تأمر إيران بدفع 6 مليارات دولار ...   \n",
       "name                                                               alwatan   \n",
       "\n",
       "                                                                         1  \\\n",
       "created_at                                             2018-05-02 21:35:33   \n",
       "entities                 {'hashtags': [], 'symbols': [], 'user_mentions...   \n",
       "favorite_count                                                           2   \n",
       "id                                                      991793339270860809   \n",
       "in_reply_to_screen_name                                                NaN   \n",
       "in_reply_to_status_id                                                  NaN   \n",
       "in_reply_to_user_id                                                    NaN   \n",
       "place                                                                  NaN   \n",
       "possibly_sensitive                                                   False   \n",
       "retweet_count                                                            1   \n",
       "text                     90 % من سكان العالم يتنشقون هواء ملوثا\\n\\nhttp...   \n",
       "name                                                               alwatan   \n",
       "\n",
       "                                                                         2  \\\n",
       "created_at                                             2018-05-02 21:30:48   \n",
       "entities                 {'hashtags': [], 'symbols': [], 'user_mentions...   \n",
       "favorite_count                                                           4   \n",
       "id                                                      991792142912802817   \n",
       "in_reply_to_screen_name                                                NaN   \n",
       "in_reply_to_status_id                                                  NaN   \n",
       "in_reply_to_user_id                                                    NaN   \n",
       "place                                                                  NaN   \n",
       "possibly_sensitive                                                   False   \n",
       "retweet_count                                                            1   \n",
       "text                     وصول الطائرة «فيلكا» بعد استكمال صيانتها في «ب...   \n",
       "name                                                               alwatan   \n",
       "\n",
       "                                                                         3  \\\n",
       "created_at                                             2018-05-02 21:27:22   \n",
       "entities                 {'hashtags': [], 'symbols': [], 'user_mentions...   \n",
       "favorite_count                                                           1   \n",
       "id                                                      991791279846711301   \n",
       "in_reply_to_screen_name                                                NaN   \n",
       "in_reply_to_status_id                                                  NaN   \n",
       "in_reply_to_user_id                                                    NaN   \n",
       "place                                                                  NaN   \n",
       "possibly_sensitive                                                   False   \n",
       "retweet_count                                                            1   \n",
       "text                     اختبارات الثانوية.. الأحد\\n\\nhttps://t.co/Xe12...   \n",
       "name                                                               alwatan   \n",
       "\n",
       "                                                                         4  \n",
       "created_at                                             2018-05-02 21:24:03  \n",
       "entities                 {'hashtags': [], 'symbols': [], 'user_mentions...  \n",
       "favorite_count                                                           0  \n",
       "id                                                      991790445935169537  \n",
       "in_reply_to_screen_name                                                NaN  \n",
       "in_reply_to_status_id                                                  NaN  \n",
       "in_reply_to_user_id                                                    NaN  \n",
       "place                                                                  NaN  \n",
       "possibly_sensitive                                                   False  \n",
       "retweet_count                                                            1  \n",
       "text                     أمير قطر يتسلم رسالة خطية من سمو الأمير\\n\\nhtt...  \n",
       "name                                                               alwatan  "
      ]
     },
     "execution_count": 3,
     "metadata": {},
     "output_type": "execute_result"
    }
   ],
   "source": [
    "tweets_df.head().T"
   ]
  },
  {
   "cell_type": "code",
   "execution_count": 4,
   "metadata": {},
   "outputs": [
    {
     "data": {
      "text/plain": [
       "count                   23155\n",
       "unique                  22747\n",
       "top       2017-02-22 20:05:04\n",
       "freq                        5\n",
       "Name: created_at, dtype: object"
      ]
     },
     "execution_count": 4,
     "metadata": {},
     "output_type": "execute_result"
    }
   ],
   "source": [
    "tweets_df.created_at.describe()"
   ]
  },
  {
   "cell_type": "code",
   "execution_count": 5,
   "metadata": {},
   "outputs": [
    {
     "data": {
      "text/plain": [
       "count                                                 23155\n",
       "unique                                                22099\n",
       "top       {'hashtags': [], 'symbols': [], 'user_mentions...\n",
       "freq                                                    603\n",
       "Name: entities, dtype: object"
      ]
     },
     "execution_count": 5,
     "metadata": {},
     "output_type": "execute_result"
    }
   ],
   "source": [
    "tweets_df.entities.describe()"
   ]
  },
  {
   "cell_type": "code",
   "execution_count": 6,
   "metadata": {},
   "outputs": [
    {
     "data": {
      "text/plain": [
       "count    23155.000000\n",
       "mean         2.128568\n",
       "std         16.904183\n",
       "min          0.000000\n",
       "25%          0.000000\n",
       "50%          1.000000\n",
       "75%          2.000000\n",
       "max       2015.000000\n",
       "Name: favorite_count, dtype: float64"
      ]
     },
     "execution_count": 6,
     "metadata": {},
     "output_type": "execute_result"
    }
   ],
   "source": [
    "tweets_df.favorite_count.describe()"
   ]
  },
  {
   "cell_type": "code",
   "execution_count": 23,
   "metadata": {},
   "outputs": [
    {
     "data": {
      "text/plain": [
       "count    2.315500e+04\n",
       "mean     9.794991e+17\n",
       "std      4.117512e+16\n",
       "min      6.757187e+17\n",
       "25%      9.837335e+17\n",
       "50%      9.864680e+17\n",
       "75%      9.892307e+17\n",
       "max      9.918028e+17\n",
       "Name: id, dtype: float64"
      ]
     },
     "execution_count": 23,
     "metadata": {},
     "output_type": "execute_result"
    }
   ],
   "source": [
    "tweets_df.id.describe()"
   ]
  },
  {
   "cell_type": "code",
   "execution_count": 7,
   "metadata": {},
   "outputs": [
    {
     "data": {
      "text/plain": [
       "count                 60\n",
       "unique                 4\n",
       "top       AlseyassahNews\n",
       "freq                  41\n",
       "Name: in_reply_to_screen_name, dtype: object"
      ]
     },
     "execution_count": 7,
     "metadata": {},
     "output_type": "execute_result"
    }
   ],
   "source": [
    "tweets_df.in_reply_to_screen_name.describe()"
   ]
  },
  {
   "cell_type": "code",
   "execution_count": 8,
   "metadata": {},
   "outputs": [
    {
     "data": {
      "text/plain": [
       "count    6.000000e+01\n",
       "mean     9.810572e+17\n",
       "std      1.101162e+16\n",
       "min      9.138978e+17\n",
       "25%      9.768778e+17\n",
       "50%      9.836585e+17\n",
       "75%      9.878681e+17\n",
       "max      9.917926e+17\n",
       "Name: in_reply_to_status_id, dtype: float64"
      ]
     },
     "execution_count": 8,
     "metadata": {},
     "output_type": "execute_result"
    }
   ],
   "source": [
    "tweets_df.in_reply_to_status_id.describe()"
   ]
  },
  {
   "cell_type": "code",
   "execution_count": 9,
   "metadata": {},
   "outputs": [
    {
     "data": {
      "text/plain": [
       "count    6.000000e+01\n",
       "mean     2.484898e+08\n",
       "std      2.650336e+08\n",
       "min      7.000638e+07\n",
       "25%      1.509726e+08\n",
       "50%      2.660159e+08\n",
       "75%      2.660159e+08\n",
       "max      2.175857e+09\n",
       "Name: in_reply_to_user_id, dtype: float64"
      ]
     },
     "execution_count": 9,
     "metadata": {},
     "output_type": "execute_result"
    }
   ],
   "source": [
    "tweets_df.in_reply_to_user_id.describe()"
   ]
  },
  {
   "cell_type": "code",
   "execution_count": 10,
   "metadata": {},
   "outputs": [
    {
     "data": {
      "text/plain": [
       "count    0.0\n",
       "mean     NaN\n",
       "std      NaN\n",
       "min      NaN\n",
       "25%      NaN\n",
       "50%      NaN\n",
       "75%      NaN\n",
       "max      NaN\n",
       "Name: place, dtype: float64"
      ]
     },
     "execution_count": 10,
     "metadata": {},
     "output_type": "execute_result"
    }
   ],
   "source": [
    "tweets_df.place.describe()"
   ]
  },
  {
   "cell_type": "code",
   "execution_count": 11,
   "metadata": {},
   "outputs": [
    {
     "data": {
      "text/plain": [
       "count     21380\n",
       "unique        1\n",
       "top       False\n",
       "freq      21380\n",
       "Name: possibly_sensitive, dtype: object"
      ]
     },
     "execution_count": 11,
     "metadata": {},
     "output_type": "execute_result"
    }
   ],
   "source": [
    "tweets_df.possibly_sensitive.describe()"
   ]
  },
  {
   "cell_type": "code",
   "execution_count": 12,
   "metadata": {},
   "outputs": [
    {
     "data": {
      "text/plain": [
       "count    23155.000000\n",
       "mean         5.116519\n",
       "std         63.617464\n",
       "min          0.000000\n",
       "25%          0.000000\n",
       "50%          1.000000\n",
       "75%          2.000000\n",
       "max       7635.000000\n",
       "Name: retweet_count, dtype: float64"
      ]
     },
     "execution_count": 12,
     "metadata": {},
     "output_type": "execute_result"
    }
   ],
   "source": [
    "tweets_df.retweet_count.describe()"
   ]
  },
  {
   "cell_type": "code",
   "execution_count": 13,
   "metadata": {},
   "outputs": [
    {
     "data": {
      "text/plain": [
       "count                                                 23155\n",
       "unique                                                23010\n",
       "top       #الصوت | فـضيحة مالـية ورقـابية .. تهز\\n#التطب...\n",
       "freq                                                      5\n",
       "Name: text, dtype: object"
      ]
     },
     "execution_count": 13,
     "metadata": {},
     "output_type": "execute_result"
    }
   ],
   "source": [
    "tweets_df.text.describe()"
   ]
  },
  {
   "cell_type": "code",
   "execution_count": 62,
   "metadata": {},
   "outputs": [
    {
     "data": {
      "text/plain": [
       "count      23155\n",
       "unique         8\n",
       "top       alanba\n",
       "freq        3200\n",
       "Name: name, dtype: object"
      ]
     },
     "execution_count": 62,
     "metadata": {},
     "output_type": "execute_result"
    }
   ],
   "source": [
    "tweets_df.name.describe()"
   ]
  },
  {
   "cell_type": "code",
   "execution_count": 54,
   "metadata": {},
   "outputs": [],
   "source": [
    "tweets_text = tweets_df.text.value_counts().index"
   ]
  },
  {
   "cell_type": "code",
   "execution_count": 61,
   "metadata": {},
   "outputs": [
    {
     "data": {
      "text/plain": [
       "'#الصوت | فـضيحة مالـية ورقـابية .. تهز\\n#التطبيقي .. الـمراقب المالي يعطل كافة\\nحقوق ومكتسبات أكثر من 50الف طالب\\nوطال… https://t.co/e4XWf3Eu3B'"
      ]
     },
     "execution_count": 61,
     "metadata": {},
     "output_type": "execute_result"
    }
   ],
   "source": [
    "tweets_text[0]"
   ]
  },
  {
   "cell_type": "code",
   "execution_count": 14,
   "metadata": {},
   "outputs": [
    {
     "data": {
      "text/html": [
       "<div>\n",
       "<style>\n",
       "    .dataframe thead tr:only-child th {\n",
       "        text-align: right;\n",
       "    }\n",
       "\n",
       "    .dataframe thead th {\n",
       "        text-align: left;\n",
       "    }\n",
       "\n",
       "    .dataframe tbody tr th {\n",
       "        vertical-align: top;\n",
       "    }\n",
       "</style>\n",
       "<table border=\"1\" class=\"dataframe\">\n",
       "  <thead>\n",
       "    <tr style=\"text-align: right;\">\n",
       "      <th></th>\n",
       "      <th>0</th>\n",
       "      <th>1</th>\n",
       "      <th>2</th>\n",
       "      <th>3</th>\n",
       "      <th>4</th>\n",
       "    </tr>\n",
       "  </thead>\n",
       "  <tbody>\n",
       "    <tr>\n",
       "      <th>created_at</th>\n",
       "      <td>2018-05-02 21:40:52</td>\n",
       "      <td>2018-05-02 21:35:33</td>\n",
       "      <td>2018-05-02 21:30:48</td>\n",
       "      <td>2018-05-02 21:27:22</td>\n",
       "      <td>2018-05-02 21:24:03</td>\n",
       "    </tr>\n",
       "    <tr>\n",
       "      <th>entities</th>\n",
       "      <td>{'hashtags': [], 'symbols': [], 'user_mentions...</td>\n",
       "      <td>{'hashtags': [], 'symbols': [], 'user_mentions...</td>\n",
       "      <td>{'hashtags': [], 'symbols': [], 'user_mentions...</td>\n",
       "      <td>{'hashtags': [], 'symbols': [], 'user_mentions...</td>\n",
       "      <td>{'hashtags': [], 'symbols': [], 'user_mentions...</td>\n",
       "    </tr>\n",
       "    <tr>\n",
       "      <th>favorite_count</th>\n",
       "      <td>0</td>\n",
       "      <td>2</td>\n",
       "      <td>4</td>\n",
       "      <td>1</td>\n",
       "      <td>0</td>\n",
       "    </tr>\n",
       "    <tr>\n",
       "      <th>id</th>\n",
       "      <td>991794679770484737</td>\n",
       "      <td>991793339270860809</td>\n",
       "      <td>991792142912802817</td>\n",
       "      <td>991791279846711301</td>\n",
       "      <td>991790445935169537</td>\n",
       "    </tr>\n",
       "    <tr>\n",
       "      <th>in_reply_to_screen_name</th>\n",
       "      <td>NaN</td>\n",
       "      <td>NaN</td>\n",
       "      <td>NaN</td>\n",
       "      <td>NaN</td>\n",
       "      <td>NaN</td>\n",
       "    </tr>\n",
       "    <tr>\n",
       "      <th>in_reply_to_status_id</th>\n",
       "      <td>NaN</td>\n",
       "      <td>NaN</td>\n",
       "      <td>NaN</td>\n",
       "      <td>NaN</td>\n",
       "      <td>NaN</td>\n",
       "    </tr>\n",
       "    <tr>\n",
       "      <th>in_reply_to_user_id</th>\n",
       "      <td>NaN</td>\n",
       "      <td>NaN</td>\n",
       "      <td>NaN</td>\n",
       "      <td>NaN</td>\n",
       "      <td>NaN</td>\n",
       "    </tr>\n",
       "    <tr>\n",
       "      <th>place</th>\n",
       "      <td>NaN</td>\n",
       "      <td>NaN</td>\n",
       "      <td>NaN</td>\n",
       "      <td>NaN</td>\n",
       "      <td>NaN</td>\n",
       "    </tr>\n",
       "    <tr>\n",
       "      <th>possibly_sensitive</th>\n",
       "      <td>False</td>\n",
       "      <td>False</td>\n",
       "      <td>False</td>\n",
       "      <td>False</td>\n",
       "      <td>False</td>\n",
       "    </tr>\n",
       "    <tr>\n",
       "      <th>retweet_count</th>\n",
       "      <td>4</td>\n",
       "      <td>1</td>\n",
       "      <td>1</td>\n",
       "      <td>1</td>\n",
       "      <td>1</td>\n",
       "    </tr>\n",
       "    <tr>\n",
       "      <th>text</th>\n",
       "      <td>محكمة أمريكية تأمر إيران بدفع 6 مليارات دولار ...</td>\n",
       "      <td>90 % من سكان العالم يتنشقون هواء ملوثا\\n\\nhttp...</td>\n",
       "      <td>وصول الطائرة «فيلكا» بعد استكمال صيانتها في «ب...</td>\n",
       "      <td>اختبارات الثانوية.. الأحد\\n\\nhttps://t.co/Xe12...</td>\n",
       "      <td>أمير قطر يتسلم رسالة خطية من سمو الأمير\\n\\nhtt...</td>\n",
       "    </tr>\n",
       "    <tr>\n",
       "      <th>name</th>\n",
       "      <td>alwatan</td>\n",
       "      <td>alwatan</td>\n",
       "      <td>alwatan</td>\n",
       "      <td>alwatan</td>\n",
       "      <td>alwatan</td>\n",
       "    </tr>\n",
       "  </tbody>\n",
       "</table>\n",
       "</div>"
      ],
      "text/plain": [
       "                                                                         0  \\\n",
       "created_at                                             2018-05-02 21:40:52   \n",
       "entities                 {'hashtags': [], 'symbols': [], 'user_mentions...   \n",
       "favorite_count                                                           0   \n",
       "id                                                      991794679770484737   \n",
       "in_reply_to_screen_name                                                NaN   \n",
       "in_reply_to_status_id                                                  NaN   \n",
       "in_reply_to_user_id                                                    NaN   \n",
       "place                                                                  NaN   \n",
       "possibly_sensitive                                                   False   \n",
       "retweet_count                                                            4   \n",
       "text                     محكمة أمريكية تأمر إيران بدفع 6 مليارات دولار ...   \n",
       "name                                                               alwatan   \n",
       "\n",
       "                                                                         1  \\\n",
       "created_at                                             2018-05-02 21:35:33   \n",
       "entities                 {'hashtags': [], 'symbols': [], 'user_mentions...   \n",
       "favorite_count                                                           2   \n",
       "id                                                      991793339270860809   \n",
       "in_reply_to_screen_name                                                NaN   \n",
       "in_reply_to_status_id                                                  NaN   \n",
       "in_reply_to_user_id                                                    NaN   \n",
       "place                                                                  NaN   \n",
       "possibly_sensitive                                                   False   \n",
       "retweet_count                                                            1   \n",
       "text                     90 % من سكان العالم يتنشقون هواء ملوثا\\n\\nhttp...   \n",
       "name                                                               alwatan   \n",
       "\n",
       "                                                                         2  \\\n",
       "created_at                                             2018-05-02 21:30:48   \n",
       "entities                 {'hashtags': [], 'symbols': [], 'user_mentions...   \n",
       "favorite_count                                                           4   \n",
       "id                                                      991792142912802817   \n",
       "in_reply_to_screen_name                                                NaN   \n",
       "in_reply_to_status_id                                                  NaN   \n",
       "in_reply_to_user_id                                                    NaN   \n",
       "place                                                                  NaN   \n",
       "possibly_sensitive                                                   False   \n",
       "retweet_count                                                            1   \n",
       "text                     وصول الطائرة «فيلكا» بعد استكمال صيانتها في «ب...   \n",
       "name                                                               alwatan   \n",
       "\n",
       "                                                                         3  \\\n",
       "created_at                                             2018-05-02 21:27:22   \n",
       "entities                 {'hashtags': [], 'symbols': [], 'user_mentions...   \n",
       "favorite_count                                                           1   \n",
       "id                                                      991791279846711301   \n",
       "in_reply_to_screen_name                                                NaN   \n",
       "in_reply_to_status_id                                                  NaN   \n",
       "in_reply_to_user_id                                                    NaN   \n",
       "place                                                                  NaN   \n",
       "possibly_sensitive                                                   False   \n",
       "retweet_count                                                            1   \n",
       "text                     اختبارات الثانوية.. الأحد\\n\\nhttps://t.co/Xe12...   \n",
       "name                                                               alwatan   \n",
       "\n",
       "                                                                         4  \n",
       "created_at                                             2018-05-02 21:24:03  \n",
       "entities                 {'hashtags': [], 'symbols': [], 'user_mentions...  \n",
       "favorite_count                                                           0  \n",
       "id                                                      991790445935169537  \n",
       "in_reply_to_screen_name                                                NaN  \n",
       "in_reply_to_status_id                                                  NaN  \n",
       "in_reply_to_user_id                                                    NaN  \n",
       "place                                                                  NaN  \n",
       "possibly_sensitive                                                   False  \n",
       "retweet_count                                                            1  \n",
       "text                     أمير قطر يتسلم رسالة خطية من سمو الأمير\\n\\nhtt...  \n",
       "name                                                               alwatan  "
      ]
     },
     "execution_count": 14,
     "metadata": {},
     "output_type": "execute_result"
    }
   ],
   "source": [
    "tweets_df.head().T"
   ]
  },
  {
   "cell_type": "code",
   "execution_count": 15,
   "metadata": {},
   "outputs": [
    {
     "data": {
      "text/plain": [
       "[None]"
      ]
     },
     "execution_count": 15,
     "metadata": {},
     "output_type": "execute_result"
    },
    {
     "data": {
      "image/png": "[encoded data removed]",
      "text/plain": [
       "<matplotlib.figure.Figure at 0xfc1f1450b8>"
      ]
     },
     "metadata": {},
     "output_type": "display_data"
    }
   ],
   "source": [
    "a = tweets_df.favorite_count.hist()\n",
    "a.set(yscale=\"log\")"
   ]
  },
  {
   "cell_type": "code",
   "execution_count": 106,
   "metadata": {},
   "outputs": [
    {
     "data": {
      "text/plain": [
       "[None]"
      ]
     },
     "execution_count": 106,
     "metadata": {},
     "output_type": "execute_result"
    },
    {
     "data": {
      "image/png": "[encoded data removed]",
      "text/plain": [
       "<matplotlib.figure.Figure at 0x300d6bf7b8>"
      ]
     },
     "metadata": {},
     "output_type": "display_data"
    }
   ],
   "source": [
    "n = tweets_df.favorite_count.hist()\n",
    "n.set(yscale=\"log\")"
   ]
  },
  {
   "cell_type": "code",
   "execution_count": 73,
   "metadata": {},
   "outputs": [
    {
     "data": {
      "text/plain": [
       "<matplotlib.text.Annotation at 0x300bb45fd0>"
      ]
     },
     "execution_count": 73,
     "metadata": {},
     "output_type": "execute_result"
    },
    {
     "data": {
      "image/png": "[encoded data removed]",
      "text/plain": [
       "<matplotlib.figure.Figure at 0x300cbc3ac8>"
      ]
     },
     "metadata": {},
     "output_type": "display_data"
    }
   ],
   "source": [
    "b = tweets_df.retweet_count.hist()\n",
    "b.set(yscale=\"log\")\n",
    "plt.annotate(\"max\", xy=(1000, 20000), xytext= (3000, 1000), arrowprops=dict(facecolor='black', shrink=0.05))"
   ]
  },
  {
   "cell_type": "code",
   "execution_count": 44,
   "metadata": {},
   "outputs": [
    {
     "data": {
      "text/plain": [
       "created_at                 60\n",
       "entities                   60\n",
       "favorite_count             60\n",
       "id                         60\n",
       "in_reply_to_screen_name    60\n",
       "in_reply_to_status_id      60\n",
       "in_reply_to_user_id        60\n",
       "place                       0\n",
       "possibly_sensitive         11\n",
       "retweet_count              60\n",
       "text                       60\n",
       "name                       60\n",
       "retweet_mean               60\n",
       "dtype: int64"
      ]
     },
     "execution_count": 44,
     "metadata": {},
     "output_type": "execute_result"
    }
   ],
   "source": [
    "tweets_df[~(tweets_df.in_reply_to_screen_name.isnull())].count()"
   ]
  },
  {
   "cell_type": "code",
   "execution_count": 18,
   "metadata": {},
   "outputs": [],
   "source": [
    "tweets_df[\"retweet_mean\"] = tweets_df.retweet_count.mean()"
   ]
  },
  {
   "cell_type": "code",
   "execution_count": null,
   "metadata": {},
   "outputs": [],
   "source": [
    "sns.factorplot(data=tweets_df, x=\"created_at\", y=\"retweet_count\", kind=\"box\")"
   ]
  },
  {
   "cell_type": "code",
   "execution_count": 19,
   "metadata": {},
   "outputs": [
    {
     "data": {
      "text/plain": [
       "0        2018-05-02 21:40:52\n",
       "1        2018-05-02 21:35:33\n",
       "2        2018-05-02 21:30:48\n",
       "3        2018-05-02 21:27:22\n",
       "4        2018-05-02 21:24:03\n",
       "5        2018-05-02 21:20:20\n",
       "6        2018-05-02 21:18:03\n",
       "7        2018-05-02 21:16:07\n",
       "8        2018-05-02 21:12:47\n",
       "9        2018-05-02 21:10:52\n",
       "10       2018-05-02 20:58:49\n",
       "11       2018-05-02 20:55:07\n",
       "12       2018-05-02 20:51:37\n",
       "13       2018-05-02 20:40:20\n",
       "14       2018-05-02 20:33:51\n",
       "15       2018-05-02 19:49:21\n",
       "16       2018-05-02 19:49:17\n",
       "17       2018-05-02 19:32:27\n",
       "18       2018-05-02 19:28:51\n",
       "19       2018-05-02 19:09:48\n",
       "20       2018-05-02 18:48:55\n",
       "21       2018-05-02 18:38:47\n",
       "22       2018-05-02 18:21:19\n",
       "23       2018-05-02 18:18:14\n",
       "24       2018-05-02 18:08:59\n",
       "25       2018-05-02 18:06:38\n",
       "26       2018-05-02 18:06:17\n",
       "27       2018-05-02 18:05:52\n",
       "28       2018-05-02 17:53:13\n",
       "29       2018-05-02 17:49:39\n",
       "                ...         \n",
       "23125    2018-04-14 03:26:07\n",
       "23126    2018-04-14 03:22:55\n",
       "23127    2018-04-14 03:18:08\n",
       "23128    2018-04-14 03:07:31\n",
       "23129    2018-04-14 03:05:11\n",
       "23130    2018-04-14 03:02:45\n",
       "23131    2018-04-14 02:57:55\n",
       "23132    2018-04-14 02:55:39\n",
       "23133    2018-04-14 02:47:28\n",
       "23134    2018-04-14 02:45:59\n",
       "23135    2018-04-14 02:45:51\n",
       "23136    2018-04-14 02:42:20\n",
       "23137    2018-04-14 02:38:53\n",
       "23138    2018-04-14 02:29:14\n",
       "23139    2018-04-14 02:20:33\n",
       "23140    2018-04-14 02:19:42\n",
       "23141    2018-04-14 02:16:25\n",
       "23142    2018-04-14 02:10:27\n",
       "23143    2018-04-14 02:09:41\n",
       "23144    2018-04-14 02:09:22\n",
       "23145    2018-04-14 02:07:42\n",
       "23146    2018-04-14 02:06:26\n",
       "23147    2018-04-14 02:05:05\n",
       "23148    2018-04-14 02:03:20\n",
       "23149    2018-04-14 02:00:27\n",
       "23150    2018-04-14 01:51:57\n",
       "23151    2018-04-14 01:50:22\n",
       "23152    2018-04-14 01:48:13\n",
       "23153    2018-04-14 01:40:28\n",
       "23154    2018-04-14 01:39:18\n",
       "Name: created_at, Length: 23155, dtype: object"
      ]
     },
     "execution_count": 19,
     "metadata": {},
     "output_type": "execute_result"
    }
   ],
   "source": [
    "tweets_df.created_at"
   ]
  },
  {
   "cell_type": "code",
   "execution_count": 21,
   "metadata": {},
   "outputs": [],
   "source": [
    "tweets_df[\"created_at\"] = pd.to_datetime(tweets_df.created_at)"
   ]
  },
  {
   "cell_type": "code",
   "execution_count": 22,
   "metadata": {},
   "outputs": [
    {
     "data": {
      "text/plain": [
       "0       2018-05-02 21:40:52\n",
       "1       2018-05-02 21:35:33\n",
       "2       2018-05-02 21:30:48\n",
       "3       2018-05-02 21:27:22\n",
       "4       2018-05-02 21:24:03\n",
       "5       2018-05-02 21:20:20\n",
       "6       2018-05-02 21:18:03\n",
       "7       2018-05-02 21:16:07\n",
       "8       2018-05-02 21:12:47\n",
       "9       2018-05-02 21:10:52\n",
       "10      2018-05-02 20:58:49\n",
       "11      2018-05-02 20:55:07\n",
       "12      2018-05-02 20:51:37\n",
       "13      2018-05-02 20:40:20\n",
       "14      2018-05-02 20:33:51\n",
       "15      2018-05-02 19:49:21\n",
       "16      2018-05-02 19:49:17\n",
       "17      2018-05-02 19:32:27\n",
       "18      2018-05-02 19:28:51\n",
       "19      2018-05-02 19:09:48\n",
       "20      2018-05-02 18:48:55\n",
       "21      2018-05-02 18:38:47\n",
       "22      2018-05-02 18:21:19\n",
       "23      2018-05-02 18:18:14\n",
       "24      2018-05-02 18:08:59\n",
       "25      2018-05-02 18:06:38\n",
       "26      2018-05-02 18:06:17\n",
       "27      2018-05-02 18:05:52\n",
       "28      2018-05-02 17:53:13\n",
       "29      2018-05-02 17:49:39\n",
       "                ...        \n",
       "23125   2018-04-14 03:26:07\n",
       "23126   2018-04-14 03:22:55\n",
       "23127   2018-04-14 03:18:08\n",
       "23128   2018-04-14 03:07:31\n",
       "23129   2018-04-14 03:05:11\n",
       "23130   2018-04-14 03:02:45\n",
       "23131   2018-04-14 02:57:55\n",
       "23132   2018-04-14 02:55:39\n",
       "23133   2018-04-14 02:47:28\n",
       "23134   2018-04-14 02:45:59\n",
       "23135   2018-04-14 02:45:51\n",
       "23136   2018-04-14 02:42:20\n",
       "23137   2018-04-14 02:38:53\n",
       "23138   2018-04-14 02:29:14\n",
       "23139   2018-04-14 02:20:33\n",
       "23140   2018-04-14 02:19:42\n",
       "23141   2018-04-14 02:16:25\n",
       "23142   2018-04-14 02:10:27\n",
       "23143   2018-04-14 02:09:41\n",
       "23144   2018-04-14 02:09:22\n",
       "23145   2018-04-14 02:07:42\n",
       "23146   2018-04-14 02:06:26\n",
       "23147   2018-04-14 02:05:05\n",
       "23148   2018-04-14 02:03:20\n",
       "23149   2018-04-14 02:00:27\n",
       "23150   2018-04-14 01:51:57\n",
       "23151   2018-04-14 01:50:22\n",
       "23152   2018-04-14 01:48:13\n",
       "23153   2018-04-14 01:40:28\n",
       "23154   2018-04-14 01:39:18\n",
       "Name: created_at, Length: 23155, dtype: datetime64[ns]"
      ]
     },
     "execution_count": 22,
     "metadata": {},
     "output_type": "execute_result"
    }
   ],
   "source": [
    "tweets_df[\"created_at\"]"
   ]
  },
  {
   "cell_type": "code",
   "execution_count": 28,
   "metadata": {},
   "outputs": [
    {
     "data": {
      "text/html": [
       "<div>\n",
       "<style>\n",
       "    .dataframe thead tr:only-child th {\n",
       "        text-align: right;\n",
       "    }\n",
       "\n",
       "    .dataframe thead th {\n",
       "        text-align: left;\n",
       "    }\n",
       "\n",
       "    .dataframe tbody tr th {\n",
       "        vertical-align: top;\n",
       "    }\n",
       "</style>\n",
       "<table border=\"1\" class=\"dataframe\">\n",
       "  <thead>\n",
       "    <tr style=\"text-align: right;\">\n",
       "      <th></th>\n",
       "      <th>created_at</th>\n",
       "      <th>entities</th>\n",
       "      <th>favorite_count</th>\n",
       "      <th>id</th>\n",
       "      <th>in_reply_to_screen_name</th>\n",
       "      <th>in_reply_to_status_id</th>\n",
       "      <th>in_reply_to_user_id</th>\n",
       "      <th>place</th>\n",
       "      <th>possibly_sensitive</th>\n",
       "      <th>retweet_count</th>\n",
       "      <th>text</th>\n",
       "      <th>name</th>\n",
       "      <th>retweet_mean</th>\n",
       "    </tr>\n",
       "  </thead>\n",
       "  <tbody>\n",
       "  </tbody>\n",
       "</table>\n",
       "</div>"
      ],
      "text/plain": [
       "Empty DataFrame\n",
       "Columns: [created_at, entities, favorite_count, id, in_reply_to_screen_name, in_reply_to_status_id, in_reply_to_user_id, place, possibly_sensitive, retweet_count, text, name, retweet_mean]\n",
       "Index: []"
      ]
     },
     "execution_count": 28,
     "metadata": {},
     "output_type": "execute_result"
    }
   ],
   "source": [
    "tweets_df[~(tweets_df.place.isnull())]"
   ]
  },
  {
   "cell_type": "code",
   "execution_count": 35,
   "metadata": {},
   "outputs": [
    {
     "data": {
      "text/html": [
       "<div>\n",
       "<style>\n",
       "    .dataframe thead tr:only-child th {\n",
       "        text-align: right;\n",
       "    }\n",
       "\n",
       "    .dataframe thead th {\n",
       "        text-align: left;\n",
       "    }\n",
       "\n",
       "    .dataframe tbody tr th {\n",
       "        vertical-align: top;\n",
       "    }\n",
       "</style>\n",
       "<table border=\"1\" class=\"dataframe\">\n",
       "  <thead>\n",
       "    <tr style=\"text-align: right;\">\n",
       "      <th></th>\n",
       "      <th>created_at</th>\n",
       "      <th>entities</th>\n",
       "      <th>favorite_count</th>\n",
       "      <th>id</th>\n",
       "      <th>in_reply_to_screen_name</th>\n",
       "      <th>in_reply_to_status_id</th>\n",
       "      <th>in_reply_to_user_id</th>\n",
       "      <th>place</th>\n",
       "      <th>possibly_sensitive</th>\n",
       "      <th>retweet_count</th>\n",
       "      <th>text</th>\n",
       "      <th>name</th>\n",
       "      <th>retweet_mean</th>\n",
       "    </tr>\n",
       "  </thead>\n",
       "  <tbody>\n",
       "  </tbody>\n",
       "</table>\n",
       "</div>"
      ],
      "text/plain": [
       "Empty DataFrame\n",
       "Columns: [created_at, entities, favorite_count, id, in_reply_to_screen_name, in_reply_to_status_id, in_reply_to_user_id, place, possibly_sensitive, retweet_count, text, name, retweet_mean]\n",
       "Index: []"
      ]
     },
     "execution_count": 35,
     "metadata": {},
     "output_type": "execute_result"
    }
   ],
   "source": [
    "tweets_df[tweets_df.possibly_sensitive == True]"
   ]
  },
  {
   "cell_type": "code",
   "execution_count": 37,
   "metadata": {},
   "outputs": [
    {
     "data": {
      "text/plain": [
       "{'hashtags': [], 'symbols': [], 'user_mentions': [], 'urls': []}                                                                                                                                                                                                                                                                                                                                                                                                                                                                                                                                                                                                                                                                                                                                                                                                                                                                                                                                                                                                                                                                                                                                                                        603\n",
       "{'hashtags': [], 'symbols': [], 'user_mentions': [{'screen_name': 'alqabas_tv', 'name': 'تلفزيون القبس', 'id': 928669202386444288, 'id_str': '928669202386444288', 'indices': [3, 14]}], 'urls': []}                                                                                                                                                                                                                                                                                                                                                                                                                                                                                                                                                                                                                                                                                                                                                                                                                                                                                                                                                                                                                                     63\n",
       "{'hashtags': [{'text': 'عاجل', 'indices': [0, 5]}], 'symbols': [], 'user_mentions': [], 'urls': []}                                                                                                                                                                                                                                                                                                                                                                                                                                                                                                                                                                                                                                                                                                                                                                                                                                                                                                                                                                                                                                                                                                                                      33\n",
       "{'hashtags': [{'text': 'الإغلاق_اليومي', 'indices': [21, 36]}], 'symbols': [], 'user_mentions': [{'screen_name': 'AlAnba_Business', 'name': 'الأنباء الاقتصادية', 'id': 939920173871624192, 'id_str': '939920173871624192', 'indices': [3, 19]}], 'urls': []}                                                                                                                                                                                                                                                                                                                                                                                                                                                                                                                                                                                                                                                                                                                                                                                                                                                                                                                                                                            18\n",
       "{'hashtags': [], 'symbols': [], 'user_mentions': [{'screen_name': 'AlAnba_News_KW', 'name': 'جريدة الأنباء', 'id': 256937266, 'id_str': '256937266', 'indices': [3, 18]}], 'urls': []}                                                                                                                                                                                                                                                                                                                                                                                                                                                                                                                                                                                                                                                                                                                                                                                                                                                                                                                                                                                                                                                   12\n",
       "{'hashtags': [], 'symbols': [], 'user_mentions': [{'screen_name': 'alqabas', 'name': 'القبس الإلكتروني', 'id': 70457507, 'id_str': '70457507', 'indices': [3, 11]}], 'urls': []}                                                                                                                                                                                                                                                                                                                                                                                                                                                                                                                                                                                                                                                                                                                                                                                                                                                                                                                                                                                                                                                         11\n",
       "{'hashtags': [], 'symbols': [], 'user_mentions': [{'screen_name': 'ksaaa1977', 'name': 'محمد العنزي', 'id': 414304728, 'id_str': '414304728', 'indices': [3, 13]}], 'urls': []}                                                                                                                                                                                                                                                                                                                                                                                                                                                                                                                                                                                                                                                                                                                                                                                                                                                                                                                                                                                                                                                          11\n",
       "{'hashtags': [], 'symbols': [], 'user_mentions': [{'screen_name': 'alqabas_economy', 'name': 'القبس الإقتصادي', 'id': 928238054460088320, 'id_str': '928238054460088320', 'indices': [3, 19]}], 'urls': []}                                                                                                                                                                                                                                                                                                                                                                                                                                                                                                                                                                                                                                                                                                                                                                                                                                                                                                                                                                                                                              10\n",
       "{'hashtags': [], 'symbols': [], 'user_mentions': [{'screen_name': 'shmmo5', 'name': 'شمووخ شذاها يفوح', 'id': 3258979478, 'id_str': '3258979478', 'indices': [3, 10]}], 'urls': []}                                                                                                                                                                                                                                                                                                                                                                                                                                                                                                                                                                                                                                                                                                                                                                                                                                                                                                                                                                                                                                                       8\n",
       "{'hashtags': [], 'symbols': [], 'user_mentions': [{'screen_name': 'aldaar_news', 'name': 'جريدة الدار', 'id': 2175857471, 'id_str': '2175857471', 'indices': [3, 15]}], 'urls': []}                                                                                                                                                                                                                                                                                                                                                                                                                                                                                                                                                                                                                                                                                                                                                                                                                                                                                                                                                                                                                                                       6\n",
       "{'hashtags': [], 'symbols': [], 'user_mentions': [{'screen_name': 'Lllllm_5', 'name': 'البــــــردهـــ2017م', 'id': 2923585311, 'id_str': '2923585311', 'indices': [3, 12]}], 'urls': []}                                                                                                                                                                                                                                                                                                                                                                                                                                                                                                                                                                                                                                                                                                                                                                                                                                                                                                                                                                                                                                                 5\n",
       "{'hashtags': [], 'symbols': [], 'user_mentions': [{'screen_name': 'Abdulla_Aramco7', 'name': 'عبدالله بن عبدالعزيز', 'id': 3230768868, 'id_str': '3230768868', 'indices': [3, 19]}], 'urls': []}                                                                                                                                                                                                                                                                                                                                                                                                                                                                                                                                                                                                                                                                                                                                                                                                                                                                                                                                                                                                                                          5\n",
       "{'hashtags': [], 'symbols': [], 'user_mentions': [{'screen_name': 'ixllxx', 'name': 'تسديد قروض', 'id': 4113979791, 'id_str': '4113979791', 'indices': [3, 10]}], 'urls': []}                                                                                                                                                                                                                                                                                                                                                                                                                                                                                                                                                                                                                                                                                                                                                                                                                                                                                                                                                                                                                                                             5\n",
       "{'hashtags': [], 'symbols': [], 'user_mentions': [{'screen_name': 'alqabas_sport', 'name': 'القبس الرياضي', 'id': 928216340359507969, 'id_str': '928216340359507969', 'indices': [3, 17]}], 'urls': []}                                                                                                                                                                                                                                                                                                                                                                                                                                                                                                                                                                                                                                                                                                                                                                                                                                                                                                                                                                                                                                   5\n",
       "{'hashtags': [], 'symbols': [], 'user_mentions': [{'screen_name': 'DrUsamaAlneamy', 'name': 'د. أسامه النعيمي', 'id': 147496768, 'id_str': '147496768', 'indices': [3, 18]}], 'urls': []}                                                                                                                                                                                                                                                                                                                                                                                                                                                                                                                                                                                                                                                                                                                                                                                                                                                                                                                                                                                                                                                 5\n",
       "{'hashtags': [{'text': 'الصوت', 'indices': [0, 6]}, {'text': 'التطبيقي', 'indices': [39, 48]}], 'symbols': [], 'user_mentions': [], 'urls': [{'url': 'https://t.co/e4XWf3Eu3B', 'expanded_url': 'https://twitter.com/i/web/status/834494233625165825', 'display_url': 'twitter.com/i/web/status/8…', 'indices': [117, 140]}]}                                                                                                                                                                                                                                                                                                                                                                                                                                                                                                                                                                                                                                                                                                                                                                                                                                                                                                             5\n",
       "{'hashtags': [{'text': 'لقاء_الراي', 'indices': [12, 23]}], 'symbols': [], 'user_mentions': [], 'urls': []}                                                                                                                                                                                                                                                                                                                                                                                                                                                                                                                                                                                                                                                                                                                                                                                                                                                                                                                                                                                                                                                                                                                               4\n",
       "{'hashtags': [{'text': 'مغرد_بذكر_الله', 'indices': [117, 132]}], 'symbols': [], 'user_mentions': [], 'urls': []}                                                                                                                                                                                                                                                                                                                                                                                                                                                                                                                                                                                                                                                                                                                                                                                                                                                                                                                                                                                                                                                                                                                         4\n",
       "{'hashtags': [{'text': 'تصويري', 'indices': [14, 21]}, {'text': 'كولورادو', 'indices': [34, 43]}, {'text': 'امريكا', 'indices': [44, 51]}], 'symbols': [], 'user_mentions': [{'screen_name': 'ForMyPic', 'name': 'تصويري', 'id': 2492154280, 'id_str': '2492154280', 'indices': [3, 12]}, {'screen_name': 'cameraty', 'name': 'كاميرتي', 'id': 272077273, 'id_str': '272077273', 'indices': [52, 61]}, {'screen_name': 'mmgg070', 'name': 'صور فوتوغرافية', 'id': 405486597, 'id_str': '405486597', 'indices': [63, 71]}, {'screen_name': 'grp_ksa1', 'name': 'محترفي التصوير', 'id': 598345410, 'id_str': '598345410', 'indices': [73, 82]}, {'screen_name': 'Photo_4Rt', 'name': 'إبِدِاّعٌأّت مَصٌورِ', 'id': 597798968, 'id_str': '597798968', 'indices': [84, 94]}, {'screen_name': 'tswir', 'name': 'موقع تصوير', 'id': 365210398, 'id_str': '365210398', 'indices': [96, 102]}], 'urls': []}                                                                                                                                                                                                                                                                                                                                       4\n",
       "{'hashtags': [], 'symbols': [], 'user_mentions': [], 'urls': [{'url': 'https://t.co/TIEonfkzaD', 'expanded_url': 'http://bit.ly/2qyFjOT', 'display_url': 'bit.ly/2qyFjOT', 'indices': [86, 109]}]}                                                                                                                                                                                                                                                                                                                                                                                                                                                                                                                                                                                                                                                                                                                                                                                                                                                                                                                                                                                                                                        4\n",
       "{'hashtags': [], 'symbols': [], 'user_mentions': [{'screen_name': 'dddj50', 'name': 'اقوى شركه كشف تسربات وعوازل0557680400', 'id': 3060134034, 'id_str': '3060134034', 'indices': [3, 10]}], 'urls': []}                                                                                                                                                                                                                                                                                                                                                                                                                                                                                                                                                                                                                                                                                                                                                                                                                                                                                                                                                                                                                                  4\n",
       "{'hashtags': [{'text': 'محمد_بن_سلمان', 'indices': [0, 14]}], 'symbols': [], 'user_mentions': [], 'urls': []}                                                                                                                                                                                                                                                                                                                                                                                                                                                                                                                                                                                                                                                                                                                                                                                                                                                                                                                                                                                                                                                                                                                             4\n",
       "{'hashtags': [{'text': 'الدينار_الكويتي', 'indices': [64, 80]}, {'text': 'اسعار_العملات', 'indices': [105, 119]}], 'symbols': [], 'user_mentions': [{'screen_name': 'AlAnba_Business', 'name': 'الأنباء الاقتصادية', 'id': 939920173871624192, 'id_str': '939920173871624192', 'indices': [3, 19]}], 'urls': []}                                                                                                                                                                                                                                                                                                                                                                                                                                                                                                                                                                                                                                                                                                                                                                                                                                                                                                                          4\n",
       "{'hashtags': [], 'symbols': [], 'user_mentions': [], 'urls': [{'url': 'https://t.co/TIEonfkzaD', 'expanded_url': 'http://bit.ly/2qyFjOT', 'display_url': 'bit.ly/2qyFjOT', 'indices': [91, 114]}]}                                                                                                                                                                                                                                                                                                                                                                                                                                                                                                                                                                                                                                                                                                                                                                                                                                                                                                                                                                                                                                        4\n",
       "{'hashtags': [], 'symbols': [], 'user_mentions': [{'screen_name': 'SaleHAlmaGamSi', 'name': 'الشيخ صالح المغامسي', 'id': 1675841270, 'id_str': '1675841270', 'indices': [3, 18]}], 'urls': []}                                                                                                                                                                                                                                                                                                                                                                                                                                                                                                                                                                                                                                                                                                                                                                                                                                                                                                                                                                                                                                            4\n",
       "{'hashtags': [], 'symbols': [], 'user_mentions': [{'screen_name': '57__56', 'name': '🔴(الحساب للبيع)🔴متوقف عن التبادل ❌❌فاضية', 'id': 3270847116, 'id_str': '3270847116', 'indices': [3, 10]}], 'urls': []}                                                                                                                                                                                                                                                                                                                                                                                                                                                                                                                                                                                                                                                                                                                                                                                                                                                                                                                                                                                                                               4\n",
       "{'hashtags': [], 'symbols': [], 'user_mentions': [], 'urls': [{'url': 'https://t.co/BF2qRsx8Dp', 'expanded_url': 'http://sadqh.net/', 'display_url': 'sadqh.net', 'indices': [54, 77]}]}                                                                                                                                                                                                                                                                                                                                                                                                                                                                                                                                                                                                                                                                                                                                                                                                                                                                                                                                                                                                                                                  3\n",
       "{'hashtags': [], 'symbols': [], 'user_mentions': [], 'urls': [{'url': 'https://t.co/NwwMtG9BGR', 'expanded_url': 'http://bit.ly/2r5Didq', 'display_url': 'bit.ly/2r5Didq', 'indices': [79, 102]}]}                                                                                                                                                                                                                                                                                                                                                                                                                                                                                                                                                                                                                                                                                                                                                                                                                                                                                                                                                                                                                                        3\n",
       "{'hashtags': [], 'symbols': [], 'user_mentions': [{'screen_name': 'Medical_Centers', 'name': 'معلومات طبية مهمة', 'id': 845082194, 'id_str': '845082194', 'indices': [3, 19]}], 'urls': []}                                                                                                                                                                                                                                                                                                                                                                                                                                                                                                                                                                                                                                                                                                                                                                                                                                                                                                                                                                                                                                               3\n",
       "{'hashtags': [], 'symbols': [], 'user_mentions': [], 'urls': [{'url': 'https://t.co/BF2qRsx8Dp', 'expanded_url': 'http://sadqh.net/', 'display_url': 'sadqh.net', 'indices': [69, 92]}]}                                                                                                                                                                                                                                                                                                                                                                                                                                                                                                                                                                                                                                                                                                                                                                                                                                                                                                                                                                                                                                                  3\n",
       "                                                                                                                                                                                                                                                                                                                                                                                                                                                                                                                                                                                                                                                                                                                                                                                                                                                                                                                                                                                                                                                                                                                                                                                                                                       ... \n",
       "{'hashtags': [{'text': 'المغرب', 'indices': [29, 36]}], 'symbols': [], 'user_mentions': [], 'urls': [{'url': 'https://t.co/Zj0zd8KcmY', 'expanded_url': 'http://alanba.com.kw/827876', 'display_url': 'alanba.com.kw/827876', 'indices': [55, 78]}], 'media': [{'id': 988392142455296000, 'id_str': '988392142455296000', 'indices': [79, 102], 'media_url': 'http://pbs.twimg.com/media/Dbd5arXV0AAANrZ.jpg', 'media_url_https': 'https://pbs.twimg.com/media/Dbd5arXV0AAANrZ.jpg', 'url': 'https://t.co/6o1fBKyjdq', 'display_url': 'pic.twitter.com/6o1fBKyjdq', 'expanded_url': 'https://twitter.com/AlAnba_News_KW/status/988393333822230529/photo/1', 'type': 'photo', 'sizes': {'medium': {'w': 855, 'h': 495, 'resize': 'fit'}, 'thumb': {'w': 150, 'h': 150, 'resize': 'crop'}, 'small': {'w': 680, 'h': 394, 'resize': 'fit'}, 'large': {'w': 855, 'h': 495, 'resize': 'fit'}}}]}                                                                                                                                                                                                                                                                                                                                               1\n",
       "{'hashtags': [], 'symbols': [], 'user_mentions': [], 'urls': [{'url': 'https://t.co/JswPlcZCuv', 'expanded_url': 'https://twitter.com/i/web/status/981529296572485632', 'display_url': 'twitter.com/i/web/status/9…', 'indices': [117, 140]}]}                                                                                                                                                                                                                                                                                                                                                                                                                                                                                                                                                                                                                                                                                                                                                                                                                                                                                                                                                                                            1\n",
       "{'hashtags': [{'text': 'مصر', 'indices': [5, 9]}], 'symbols': [], 'user_mentions': [], 'urls': [{'url': 'https://t.co/BmvLc1cvcG', 'expanded_url': 'https://goo.gl/vAx53S', 'display_url': 'goo.gl/vAx53S', 'indices': [41, 64]}], 'media': [{'id': 984451250233028608, 'id_str': '984451250233028608', 'indices': [65, 88], 'media_url': 'http://pbs.twimg.com/media/Dal5MjzUMAAGvZF.jpg', 'media_url_https': 'https://pbs.twimg.com/media/Dal5MjzUMAAGvZF.jpg', 'url': 'https://t.co/ADYxqtrUqH', 'display_url': 'pic.twitter.com/ADYxqtrUqH', 'expanded_url': 'https://twitter.com/aljarida/status/984456105303707648/photo/1', 'type': 'photo', 'sizes': {'thumb': {'w': 150, 'h': 150, 'resize': 'crop'}, 'medium': {'w': 1200, 'h': 900, 'resize': 'fit'}, 'small': {'w': 680, 'h': 510, 'resize': 'fit'}, 'large': {'w': 1280, 'h': 960, 'resize': 'fit'}}}]}                                                                                                                                                                                                                                                                                                                                                                      1\n",
       "{'hashtags': [], 'symbols': [], 'user_mentions': [], 'urls': [{'url': 'https://t.co/T5DvSjFaYk', 'expanded_url': 'http://bit.ly/2GZQThh', 'display_url': 'bit.ly/2GZQThh', 'indices': [56, 79]}]}                                                                                                                                                                                                                                                                                                                                                                                                                                                                                                                                                                                                                                                                                                                                                                                                                                                                                                                                                                                                                                         1\n",
       "{'hashtags': [], 'symbols': [], 'user_mentions': [], 'urls': [{'url': 'https://t.co/1Q8U54sqr6', 'expanded_url': 'https://www.alraimedia.com/Home/Details?id=267b0efb-82ab-445a-83cd-267f2d262828', 'display_url': 'alraimedia.com/Home/Details?i…', 'indices': [68, 91]}]}                                                                                                                                                                                                                                                                                                                                                                                                                                                                                                                                                                                                                                                                                                                                                                                                                                                                                                                                                               1\n",
       "{'hashtags': [], 'symbols': [], 'user_mentions': [], 'urls': [{'url': 'https://t.co/kgAqp02M9Y', 'expanded_url': 'http://alwatan.kuwait.tt/articledetails.aspx?id=550952', 'display_url': 'alwatan.kuwait.tt/articledetails…', 'indices': [80, 103]}], 'media': [{'id': 988224278351958017, 'id_str': '988224278351958017', 'indices': [104, 127], 'media_url': 'http://pbs.twimg.com/ext_tw_video_thumb/988224278351958017/pu/img/gLQZcmt5h3W1MJpn.jpg', 'media_url_https': 'https://pbs.twimg.com/ext_tw_video_thumb/988224278351958017/pu/img/gLQZcmt5h3W1MJpn.jpg', 'url': 'https://t.co/M6Xv82OPng', 'display_url': 'pic.twitter.com/M6Xv82OPng', 'expanded_url': 'https://twitter.com/WatanNews/status/988224303073198080/video/1', 'type': 'photo', 'sizes': {'medium': {'w': 180, 'h': 320, 'resize': 'fit'}, 'thumb': {'w': 150, 'h': 150, 'resize': 'crop'}, 'large': {'w': 180, 'h': 320, 'resize': 'fit'}, 'small': {'w': 180, 'h': 320, 'resize': 'fit'}}}]}                                                                                                                                                                                                                                                                 1\n",
       "{'hashtags': [{'text': 'السوداني', 'indices': [7, 16]}, {'text': 'المسجد_النبوي', 'indices': [37, 51]}], 'symbols': [], 'user_mentions': [], 'urls': [], 'media': [{'id': 986136941061115904, 'id_str': '986136941061115904', 'indices': [52, 75], 'media_url': 'http://pbs.twimg.com/media/Da92UrfWkAAfaVw.jpg', 'media_url_https': 'https://pbs.twimg.com/media/Da92UrfWkAAfaVw.jpg', 'url': 'https://t.co/jZGeiI4Hpe', 'display_url': 'pic.twitter.com/jZGeiI4Hpe', 'expanded_url': 'https://twitter.com/naharkw/status/986137809932124160/photo/1', 'type': 'photo', 'sizes': {'large': {'w': 901, 'h': 600, 'resize': 'fit'}, 'thumb': {'w': 150, 'h': 150, 'resize': 'crop'}, 'medium': {'w': 901, 'h': 600, 'resize': 'fit'}, 'small': {'w': 680, 'h': 453, 'resize': 'fit'}}}]}                                                                                                                                                                                                                                                                                                                                                                                                                                                   1\n",
       "{'hashtags': [{'text': 'الجنسين', 'indices': [29, 37]}], 'symbols': [], 'user_mentions': [], 'urls': [{'url': 'https://t.co/kQUmuY1ixQ', 'expanded_url': 'https://al-seyassah.com/%d9%85%d9%82%d9%88%d9%85%d8%a7%d8%aa-%d8%a7%d9%84%d8%a7%d9%86%d8%b3%d8%a7%d9%86-%d8%a7%d9%84%d9%85%d8%b3%d8%a7%d9%88%d8%a7%d8%a9-%d8%a8%d9%8a%d9%86-%d8%a7%d9%84%d8%ac%d9%86%d8%b3%d9%8a%d9%86-%d9%82/', 'display_url': 'al-seyassah.com/%d9%85%d9%82%d…', 'indices': [66, 89]}]}                                                                                                                                                                                                                                                                                                                                                                                                                                                                                                                                                                                                                                                                                                                                                                       1\n",
       "{'hashtags': [{'text': 'مرزوق_الغانم', 'indices': [16, 29]}, {'text': 'الحرم_المكي', 'indices': [42, 54]}, {'text': 'عبدالله_الجهني', 'indices': [61, 76]}], 'symbols': [], 'user_mentions': [], 'urls': [], 'media': [{'id': 986223988371210241, 'id_str': '986223988371210241', 'indices': [77, 100], 'media_url': 'http://pbs.twimg.com/media/Da_Fff_VwAEuG7i.jpg', 'media_url_https': 'https://pbs.twimg.com/media/Da_Fff_VwAEuG7i.jpg', 'url': 'https://t.co/lhfdt0AmZ4', 'display_url': 'pic.twitter.com/lhfdt0AmZ4', 'expanded_url': 'https://twitter.com/AlAnba_News_KW/status/986224045342511104/photo/1', 'type': 'photo', 'sizes': {'thumb': {'w': 150, 'h': 150, 'resize': 'crop'}, 'small': {'w': 680, 'h': 494, 'resize': 'fit'}, 'medium': {'w': 1000, 'h': 726, 'resize': 'fit'}, 'large': {'w': 1000, 'h': 726, 'resize': 'fit'}}}]}                                                                                                                                                                                                                                                                                                                                                                                     1\n",
       "{'hashtags': [{'text': 'محمد_صلاح', 'indices': [0, 10]}, {'text': 'ليفربول', 'indices': [16, 24]}, {'text': 'روما', 'indices': [51, 56]}, {'text': 'ليفربول_روماُ', 'indices': [90, 104]}], 'symbols': [], 'user_mentions': [], 'urls': [], 'media': [{'id': 988880193073725440, 'id_str': '988880193073725440', 'indices': [105, 128], 'media_url': 'http://pbs.twimg.com/media/Dbk1S9mUQAA3Olm.jpg', 'media_url_https': 'https://pbs.twimg.com/media/Dbk1S9mUQAA3Olm.jpg', 'url': 'https://t.co/JnfQKc1cE3', 'display_url': 'pic.twitter.com/JnfQKc1cE3', 'expanded_url': 'https://twitter.com/AlseyassahNews/status/988880210450898944/photo/1', 'type': 'photo', 'sizes': {'medium': {'w': 1200, 'h': 800, 'resize': 'fit'}, 'thumb': {'w': 150, 'h': 150, 'resize': 'crop'}, 'large': {'w': 1200, 'h': 800, 'resize': 'fit'}, 'small': {'w': 680, 'h': 453, 'resize': 'fit'}}}]}                                                                                                                                                                                                                                                                                                                                                     1\n",
       "{'hashtags': [], 'symbols': [], 'user_mentions': [], 'urls': [{'url': 'https://t.co/4iO4ubAisP', 'expanded_url': 'https://bit.ly/2r9Wtn0', 'display_url': 'bit.ly/2r9Wtn0', 'indices': [35, 58]}], 'media': [{'id': 991118944932192256, 'id_str': '991118944932192256', 'indices': [59, 82], 'media_url': 'http://pbs.twimg.com/ext_tw_video_thumb/991118944932192256/pu/img/847g2CRYkBWPEThK.jpg', 'media_url_https': 'https://pbs.twimg.com/ext_tw_video_thumb/991118944932192256/pu/img/847g2CRYkBWPEThK.jpg', 'url': 'https://t.co/IsamxAzrFD', 'display_url': 'pic.twitter.com/IsamxAzrFD', 'expanded_url': 'https://twitter.com/naharkw/status/991120146419912704/video/1', 'type': 'photo', 'sizes': {'thumb': {'w': 150, 'h': 150, 'resize': 'crop'}, 'medium': {'w': 638, 'h': 640, 'resize': 'fit'}, 'large': {'w': 638, 'h': 640, 'resize': 'fit'}, 'small': {'w': 638, 'h': 640, 'resize': 'fit'}}}]}                                                                                                                                                                                                                                                                                                                         1\n",
       "{'hashtags': [], 'symbols': [], 'user_mentions': [], 'urls': [{'url': 'https://t.co/aF78gogdwe', 'expanded_url': 'https://bit.ly/2HVWx3z', 'display_url': 'bit.ly/2HVWx3z', 'indices': [45, 68]}], 'media': [{'id': 990127740534771712, 'id_str': '990127740534771712', 'indices': [69, 92], 'media_url': 'http://pbs.twimg.com/media/Db2j7yDV0AA9idM.jpg', 'media_url_https': 'https://pbs.twimg.com/media/Db2j7yDV0AA9idM.jpg', 'url': 'https://t.co/rJuHPtOfRv', 'display_url': 'pic.twitter.com/rJuHPtOfRv', 'expanded_url': 'https://twitter.com/naharkw/status/990127756070539265/photo/1', 'type': 'photo', 'sizes': {'thumb': {'w': 150, 'h': 150, 'resize': 'crop'}, 'large': {'w': 1024, 'h': 682, 'resize': 'fit'}, 'small': {'w': 680, 'h': 453, 'resize': 'fit'}, 'medium': {'w': 1024, 'h': 682, 'resize': 'fit'}}}]}                                                                                                                                                                                                                                                                                                                                                                                                       1\n",
       "{'hashtags': [], 'symbols': [], 'user_mentions': [{'screen_name': 'alqabas_economy', 'name': 'القبس الإقتصادي', 'id': 928238054460088320, 'id_str': '928238054460088320', 'indices': [3, 19]}], 'urls': [{'url': 'https://t.co/jaJ1JUDn4o', 'expanded_url': 'http://bit.ly/2qUIOiZ', 'display_url': 'bit.ly/2qUIOiZ', 'indices': [103, 126]}]}                                                                                                                                                                                                                                                                                                                                                                                                                                                                                                                                                                                                                                                                                                                                                                                                                                                                                            1\n",
       "{'hashtags': [], 'symbols': [], 'user_mentions': [], 'urls': [], 'media': [{'id': 989113729731117056, 'id_str': '989113729731117056', 'indices': [61, 84], 'media_url': 'http://pbs.twimg.com/ext_tw_video_thumb/989113729731117056/pu/img/BUiYHzOEVx8lboH6.jpg', 'media_url_https': 'https://pbs.twimg.com/ext_tw_video_thumb/989113729731117056/pu/img/BUiYHzOEVx8lboH6.jpg', 'url': 'https://t.co/OUlI6EgAlK', 'display_url': 'pic.twitter.com/OUlI6EgAlK', 'expanded_url': 'https://twitter.com/naharkw/status/989114745570590720/video/1', 'type': 'photo', 'sizes': {'thumb': {'w': 150, 'h': 150, 'resize': 'crop'}, 'large': {'w': 640, 'h': 360, 'resize': 'fit'}, 'medium': {'w': 640, 'h': 360, 'resize': 'fit'}, 'small': {'w': 640, 'h': 360, 'resize': 'fit'}}}]}                                                                                                                                                                                                                                                                                                                                                                                                                                                           1\n",
       "{'hashtags': [{'text': 'إسرائيل', 'indices': [38, 46]}], 'symbols': [], 'user_mentions': [], 'urls': [], 'media': [{'id': 991117667644817408, 'id_str': '991117667644817408', 'indices': [85, 108], 'media_url': 'http://pbs.twimg.com/media/DcEoRH6VQAAt5mZ.jpg', 'media_url_https': 'https://pbs.twimg.com/media/DcEoRH6VQAAt5mZ.jpg', 'url': 'https://t.co/gbFWUBzBgi', 'display_url': 'pic.twitter.com/gbFWUBzBgi', 'expanded_url': 'https://twitter.com/aljarida/status/991117682647949312/photo/1', 'type': 'photo', 'sizes': {'thumb': {'w': 150, 'h': 150, 'resize': 'crop'}, 'medium': {'w': 567, 'h': 321, 'resize': 'fit'}, 'small': {'w': 567, 'h': 321, 'resize': 'fit'}, 'large': {'w': 567, 'h': 321, 'resize': 'fit'}}}]}                                                                                                                                                                                                                                                                                                                                                                                                                                                                                                 1\n",
       "{'hashtags': [], 'symbols': [], 'user_mentions': [], 'urls': [{'url': 'https://t.co/RoV1sYj62x', 'expanded_url': 'https://twitter.com/i/web/status/991262342695571456', 'display_url': 'twitter.com/i/web/status/9…', 'indices': [116, 139]}]}                                                                                                                                                                                                                                                                                                                                                                                                                                                                                                                                                                                                                                                                                                                                                                                                                                                                                                                                                                                            1\n",
       "{'hashtags': [{'text': 'غزة', 'indices': [67, 71]}], 'symbols': [], 'user_mentions': [], 'urls': [{'url': 'https://t.co/BYZiarNtBb', 'expanded_url': 'http://wtne.ws/z3DE5K', 'display_url': 'wtne.ws/z3DE5K', 'indices': [73, 96]}], 'media': [{'id': 989977914539065345, 'id_str': '989977914539065345', 'indices': [97, 120], 'media_url': 'http://pbs.twimg.com/tweet_video_thumb/Db0bqwuVQAEgJcS.jpg', 'media_url_https': 'https://pbs.twimg.com/tweet_video_thumb/Db0bqwuVQAEgJcS.jpg', 'url': 'https://t.co/9B5DpTP0vd', 'display_url': 'pic.twitter.com/9B5DpTP0vd', 'expanded_url': 'https://twitter.com/WatanNews/status/989978098346135552/photo/1', 'type': 'photo', 'sizes': {'thumb': {'w': 150, 'h': 150, 'resize': 'crop'}, 'small': {'w': 600, 'h': 338, 'resize': 'fit'}, 'medium': {'w': 600, 'h': 338, 'resize': 'fit'}, 'large': {'w': 600, 'h': 338, 'resize': 'fit'}}}]}                                                                                                                                                                                                                                                                                                                                           1\n",
       "{'hashtags': [], 'symbols': [], 'user_mentions': [], 'urls': [{'url': 'https://t.co/qDumiK3bZP', 'expanded_url': 'http://alanba.com.kw/826370', 'display_url': 'alanba.com.kw/826370', 'indices': [81, 104]}], 'media': [{'id': 985991514298892288, 'id_str': '985991514298892288', 'indices': [105, 128], 'media_url': 'http://pbs.twimg.com/media/Da7yDulVwAA1izn.jpg', 'media_url_https': 'https://pbs.twimg.com/media/Da7yDulVwAA1izn.jpg', 'url': 'https://t.co/yliABoSNJm', 'display_url': 'pic.twitter.com/yliABoSNJm', 'expanded_url': 'https://twitter.com/AlAnba_News_KW/status/986031490034257921/photo/1', 'type': 'photo', 'sizes': {'thumb': {'w': 150, 'h': 150, 'resize': 'crop'}, 'small': {'w': 680, 'h': 394, 'resize': 'fit'}, 'medium': {'w': 862, 'h': 500, 'resize': 'fit'}, 'large': {'w': 862, 'h': 500, 'resize': 'fit'}}}]}                                                                                                                                                                                                                                                                                                                                                                                    1\n",
       "{'hashtags': [], 'symbols': [], 'user_mentions': [], 'urls': [{'url': 'https://t.co/gidfqWtCsK', 'expanded_url': 'https://twitter.com/i/web/status/989794725837377536', 'display_url': 'twitter.com/i/web/status/9…', 'indices': [104, 127]}]}                                                                                                                                                                                                                                                                                                                                                                                                                                                                                                                                                                                                                                                                                                                                                                                                                                                                                                                                                                                            1\n",
       "{'hashtags': [], 'symbols': [], 'user_mentions': [], 'urls': [{'url': 'https://t.co/E1Ok4yn65n', 'expanded_url': 'https://goo.gl/oQq5d7', 'display_url': 'goo.gl/oQq5d7', 'indices': [60, 83]}]}                                                                                                                                                                                                                                                                                                                                                                                                                                                                                                                                                                                                                                                                                                                                                                                                                                                                                                                                                                                                                                          1\n",
       "{'hashtags': [], 'symbols': [], 'user_mentions': [], 'urls': [{'url': 'https://t.co/xlkiqS4t4o', 'expanded_url': 'http://alanba.com.kw/828073', 'display_url': 'alanba.com.kw/828073', 'indices': [63, 86]}]}                                                                                                                                                                                                                                                                                                                                                                                                                                                                                                                                                                                                                                                                                                                                                                                                                                                                                                                                                                                                                             1\n",
       "{'hashtags': [], 'symbols': [], 'user_mentions': [], 'urls': [{'url': 'https://t.co/iem6EJ0CLP', 'expanded_url': 'http://bit.ly/2KkEna9', 'display_url': 'bit.ly/2KkEna9', 'indices': [82, 105]}], 'media': [{'id': 990931413485568000, 'id_str': '990931413485568000', 'indices': [106, 129], 'media_url': 'http://pbs.twimg.com/media/DcB-3tGVQAAr_Uv.jpg', 'media_url_https': 'https://pbs.twimg.com/media/DcB-3tGVQAAr_Uv.jpg', 'url': 'https://t.co/ehHtmUHuL8', 'display_url': 'pic.twitter.com/ehHtmUHuL8', 'expanded_url': 'https://twitter.com/alqabas/status/990931493500407809/photo/1', 'type': 'photo', 'sizes': {'thumb': {'w': 150, 'h': 150, 'resize': 'crop'}, 'medium': {'w': 577, 'h': 333, 'resize': 'fit'}, 'large': {'w': 577, 'h': 333, 'resize': 'fit'}, 'small': {'w': 577, 'h': 333, 'resize': 'fit'}}}]}                                                                                                                                                                                                                                                                                                                                                                                                       1\n",
       "{'hashtags': [], 'symbols': [], 'user_mentions': [], 'urls': [{'url': 'https://t.co/kdOaHSzWkB', 'expanded_url': 'https://bit.ly/2qyaNWk', 'display_url': 'bit.ly/2qyaNWk', 'indices': [58, 81]}], 'media': [{'id': 985679227956576256, 'id_str': '985679227956576256', 'indices': [82, 105], 'media_url': 'http://pbs.twimg.com/ext_tw_video_thumb/985679227956576256/pu/img/FF0SFlp1KrNaSW1n.jpg', 'media_url_https': 'https://pbs.twimg.com/ext_tw_video_thumb/985679227956576256/pu/img/FF0SFlp1KrNaSW1n.jpg', 'url': 'https://t.co/qg5uV09hYN', 'display_url': 'pic.twitter.com/qg5uV09hYN', 'expanded_url': 'https://twitter.com/naharkw/status/985680530627813377/video/1', 'type': 'photo', 'sizes': {'thumb': {'w': 150, 'h': 150, 'resize': 'crop'}, 'medium': {'w': 1200, 'h': 675, 'resize': 'fit'}, 'small': {'w': 680, 'h': 383, 'resize': 'fit'}, 'large': {'w': 1280, 'h': 720, 'resize': 'fit'}}}]}                                                                                                                                                                                                                                                                                                                      1\n",
       "{'hashtags': [], 'symbols': [], 'user_mentions': [], 'urls': [{'url': 'https://t.co/MZO1vffe1V', 'expanded_url': 'http://alwatan.kuwait.tt/articledetails.aspx?id=550495', 'display_url': 'alwatan.kuwait.tt/articledetails…', 'indices': [55, 78]}], 'media': [{'id': 986337986043297792, 'id_str': '986337986043297792', 'indices': [79, 102], 'media_url': 'http://pbs.twimg.com/media/DbAtLCaVwAAf3d2.jpg', 'media_url_https': 'https://pbs.twimg.com/media/DbAtLCaVwAAf3d2.jpg', 'url': 'https://t.co/g62rNqWzaz', 'display_url': 'pic.twitter.com/g62rNqWzaz', 'expanded_url': 'https://twitter.com/WatanNews/status/986338978700947456/photo/1', 'type': 'photo', 'sizes': {'thumb': {'w': 150, 'h': 150, 'resize': 'crop'}, 'medium': {'w': 642, 'h': 678, 'resize': 'fit'}, 'small': {'w': 642, 'h': 678, 'resize': 'fit'}, 'large': {'w': 642, 'h': 678, 'resize': 'fit'}}}]}                                                                                                                                                                                                                                                                                                                                                   1\n",
       "{'hashtags': [], 'symbols': [], 'user_mentions': [{'screen_name': 'alqabas_tv', 'name': 'تلفزيون القبس', 'id': 928669202386444288, 'id_str': '928669202386444288', 'indices': [3, 14]}], 'urls': [{'url': 'https://t.co/C8FC4XJueS', 'expanded_url': 'http://bit.ly/2JUm0bX', 'display_url': 'bit.ly/2JUm0bX', 'indices': [85, 108]}], 'media': [{'id': 986711522834436096, 'id_str': '986711522834436096', 'indices': [109, 132], 'media_url': 'http://pbs.twimg.com/ext_tw_video_thumb/986711522834436096/pu/img/5nwdxckfxmlssRpD.jpg', 'media_url_https': 'https://pbs.twimg.com/ext_tw_video_thumb/986711522834436096/pu/img/5nwdxckfxmlssRpD.jpg', 'url': 'https://t.co/YjbN9xTYXO', 'display_url': 'pic.twitter.com/YjbN9xTYXO', 'expanded_url': 'https://twitter.com/alqabas_tv/status/986711644674850816/video/1', 'type': 'photo', 'sizes': {'medium': {'w': 1024, 'h': 576, 'resize': 'fit'}, 'thumb': {'w': 150, 'h': 150, 'resize': 'crop'}, 'large': {'w': 1024, 'h': 576, 'resize': 'fit'}, 'small': {'w': 680, 'h': 383, 'resize': 'fit'}}, 'source_status_id': 986711644674850816, 'source_status_id_str': '986711644674850816', 'source_user_id': 928669202386444288, 'source_user_id_str': '928669202386444288'}]}      1\n",
       "{'hashtags': [{'text': 'فلسطيني', 'indices': [8, 16]}, {'text': 'غزة', 'indices': [76, 80]}], 'symbols': [], 'user_mentions': [], 'urls': []}                                                                                                                                                                                                                                                                                                                                                                                                                                                                                                                                                                                                                                                                                                                                                                                                                                                                                                                                                                                                                                                                                             1\n",
       "{'hashtags': [], 'symbols': [], 'user_mentions': [], 'urls': [{'url': 'https://t.co/NX9nUx1G0C', 'expanded_url': 'https://goo.gl/4nsn1C', 'display_url': 'goo.gl/4nsn1C', 'indices': [35, 58]}], 'media': [{'id': 985135963746824193, 'id_str': '985135963746824193', 'indices': [59, 82], 'media_url': 'http://pbs.twimg.com/media/Davn8IaXcAEHiNf.jpg', 'media_url_https': 'https://pbs.twimg.com/media/Davn8IaXcAEHiNf.jpg', 'url': 'https://t.co/nOdh1RY6Hh', 'display_url': 'pic.twitter.com/nOdh1RY6Hh', 'expanded_url': 'https://twitter.com/AlraiMediaGroup/status/985135969518178304/photo/1', 'type': 'photo', 'sizes': {'large': {'w': 650, 'h': 300, 'resize': 'fit'}, 'thumb': {'w': 150, 'h': 150, 'resize': 'crop'}, 'medium': {'w': 650, 'h': 300, 'resize': 'fit'}, 'small': {'w': 650, 'h': 300, 'resize': 'fit'}}}]}                                                                                                                                                                                                                                                                                                                                                                                                   1\n",
       "{'hashtags': [], 'symbols': [], 'user_mentions': [], 'urls': [{'url': 'https://t.co/6IoGA9BW1c', 'expanded_url': 'https://goo.gl/sXpm9h', 'display_url': 'goo.gl/sXpm9h', 'indices': [61, 84]}], 'media': [{'id': 988030729199276034, 'id_str': '988030729199276034', 'indices': [85, 108], 'media_url': 'http://pbs.twimg.com/media/DbYwtqEX0AIFLBV.jpg', 'media_url_https': 'https://pbs.twimg.com/media/DbYwtqEX0AIFLBV.jpg', 'url': 'https://t.co/erFjLo59G2', 'display_url': 'pic.twitter.com/erFjLo59G2', 'expanded_url': 'https://twitter.com/AlraiMediaGroup/status/988030733943037952/photo/1', 'type': 'photo', 'sizes': {'medium': {'w': 650, 'h': 350, 'resize': 'fit'}, 'small': {'w': 650, 'h': 350, 'resize': 'fit'}, 'thumb': {'w': 150, 'h': 150, 'resize': 'crop'}, 'large': {'w': 650, 'h': 350, 'resize': 'fit'}}}]}                                                                                                                                                                                                                                                                                                                                                                                                  1\n",
       "{'hashtags': [], 'symbols': [], 'user_mentions': [], 'urls': [{'url': 'https://t.co/6SB4SUxS9r', 'expanded_url': 'https://goo.gl/Xa4zkL', 'display_url': 'goo.gl/Xa4zkL', 'indices': [113, 136]}]}                                                                                                                                                                                                                                                                                                                                                                                                                                                                                                                                                                                                                                                                                                                                                                                                                                                                                                                                                                                                                                        1\n",
       "{'hashtags': [], 'symbols': [], 'user_mentions': [{'screen_name': 'alqabas_economy', 'name': 'القبس الإقتصادي', 'id': 928238054460088320, 'id_str': '928238054460088320', 'indices': [3, 19]}], 'urls': [{'url': 'https://t.co/8UrT8mmcZF', 'expanded_url': 'http://ow.ly/vRBu30jIGlz', 'display_url': 'ow.ly/vRBu30jIGlz', 'indices': [79, 102]}], 'media': [{'id': 989950396050194432, 'id_str': '989950396050194432', 'indices': [103, 126], 'media_url': 'http://pbs.twimg.com/tweet_video_thumb/Db0Co-XUQAA3I1k.jpg', 'media_url_https': 'https://pbs.twimg.com/tweet_video_thumb/Db0Co-XUQAA3I1k.jpg', 'url': 'https://t.co/9VqTmvYXkK', 'display_url': 'pic.twitter.com/9VqTmvYXkK', 'expanded_url': 'https://twitter.com/alqabas_economy/status/989950398797672448/photo/1', 'type': 'photo', 'sizes': {'thumb': {'w': 150, 'h': 150, 'resize': 'crop'}, 'small': {'w': 680, 'h': 680, 'resize': 'fit'}, 'medium': {'w': 720, 'h': 720, 'resize': 'fit'}, 'large': {'w': 720, 'h': 720, 'resize': 'fit'}}, 'source_status_id': 989950398797672448, 'source_status_id_str': '989950398797672448', 'source_user_id': 928238054460088320, 'source_user_id_str': '928238054460088320'}]}                                              1\n",
       "Name: entities, Length: 22099, dtype: int64"
      ]
     },
     "execution_count": 37,
     "metadata": {},
     "output_type": "execute_result"
    }
   ],
   "source": [
    "tweets_df.entities.value_counts()"
   ]
  },
  {
   "cell_type": "code",
   "execution_count": 45,
   "metadata": {},
   "outputs": [
    {
     "data": {
      "text/plain": [
       "0        4\n",
       "1        1\n",
       "2        1\n",
       "3        1\n",
       "4        1\n",
       "5        3\n",
       "6        2\n",
       "7        2\n",
       "8        4\n",
       "9        2\n",
       "10       1\n",
       "11       2\n",
       "12       6\n",
       "13       3\n",
       "14       6\n",
       "15       1\n",
       "16       3\n",
       "17       3\n",
       "18       2\n",
       "19       3\n",
       "20       1\n",
       "21       3\n",
       "22       2\n",
       "23       4\n",
       "24       0\n",
       "25       0\n",
       "26       2\n",
       "27       0\n",
       "28       1\n",
       "29       2\n",
       "        ..\n",
       "23125    1\n",
       "23126    1\n",
       "23127    1\n",
       "23128    0\n",
       "23129    1\n",
       "23130    0\n",
       "23131    1\n",
       "23132    1\n",
       "23133    1\n",
       "23134    0\n",
       "23135    6\n",
       "23136    1\n",
       "23137    2\n",
       "23138    2\n",
       "23139    1\n",
       "23140    0\n",
       "23141    2\n",
       "23142    0\n",
       "23143    0\n",
       "23144    0\n",
       "23145    1\n",
       "23146    1\n",
       "23147    0\n",
       "23148    1\n",
       "23149    3\n",
       "23150    2\n",
       "23151    0\n",
       "23152    2\n",
       "23153    0\n",
       "23154    2\n",
       "Name: retweet_count, Length: 23155, dtype: int64"
      ]
     },
     "execution_count": 45,
     "metadata": {},
     "output_type": "execute_result"
    }
   ],
   "source": [
    "tweets_df.retweet_count"
   ]
  },
  {
   "cell_type": "code",
   "execution_count": 78,
   "metadata": {},
   "outputs": [
    {
     "data": {
      "text/plain": [
       "(array([0, 1, 2, 3, 4, 5, 6, 7]), <a list of 8 Text xticklabel objects>)"
      ]
     },
     "execution_count": 78,
     "metadata": {},
     "output_type": "execute_result"
    },
    {
     "data": {
      "image/png": "[encoded data removed]",
      "text/plain": [
       "<matplotlib.figure.Figure at 0xfc26b056d8>"
      ]
     },
     "metadata": {},
     "output_type": "display_data"
    }
   ],
   "source": [
    "retweet_and_count = sns.factorplot(data=tweets_df, x=\"name\", y=\"retweet_count\", kind=\"box\")\n",
    "plt.xticks(rotation=60)"
   ]
  },
  {
   "cell_type": "code",
   "execution_count": 77,
   "metadata": {},
   "outputs": [
    {
     "data": {
      "text/plain": [
       "(array([0, 1, 2, 3, 4, 5, 6, 7]), <a list of 8 Text xticklabel objects>)"
      ]
     },
     "execution_count": 77,
     "metadata": {},
     "output_type": "execute_result"
    },
    {
     "data": {
      "image/png": "[encoded data removed]",
      "text/plain": [
       "<matplotlib.figure.Figure at 0xfc2568bc50>"
      ]
     },
     "metadata": {},
     "output_type": "display_data"
    }
   ],
   "source": [
    "retweet_and_count = sns.factorplot(data=tweets_df, x=\"name\", y=\"retweet_count\", kind=\"box\")\n",
    "retweet_and_count.set(yscale=\"log\")\n",
    "plt.xticks(rotation=60)     # alwatan have above average number of retweets and alseyassah have below average number of retweets\n",
    "                            # even tho aldaar is below average it has the most retweets as outlayers "
   ]
  },
  {
   "cell_type": "code",
   "execution_count": 131,
   "metadata": {},
   "outputs": [
    {
     "data": {
      "text/plain": [
       "<matplotlib.text.Text at 0x3014890da0>"
      ]
     },
     "execution_count": 131,
     "metadata": {},
     "output_type": "execute_result"
    },
    {
     "data": {
      "image/png": "[encoded data removed]",
      "text/plain": [
       "<matplotlib.figure.Figure at 0x3014864908>"
      ]
     },
     "metadata": {},
     "output_type": "display_data"
    }
   ],
   "source": [
    "tweets_df.in_reply_to_screen_name.value_counts().plot()  # alseyaseyah has people reply more than other newspapers but retweets less than other people \n",
    "plt.title(\"reply\")                                                       # the cause may be that the people is replying with somthing they didn't like about the tweet "
   ]
  },
  {
   "cell_type": "code",
   "execution_count": 121,
   "metadata": {},
   "outputs": [
    {
     "data": {
      "text/plain": [
       "(array([     0.,   2000.,   4000.,   6000.,   8000.,  10000.,  12000.,\n",
       "         14000.,  16000.]), <a list of 9 Text xticklabel objects>)"
      ]
     },
     "execution_count": 121,
     "metadata": {},
     "output_type": "execute_result"
    },
    {
     "data": {
      "image/png": "[encoded data removed]",
      "text/plain": [
       "<matplotlib.figure.Figure at 0x30126f5c50>"
      ]
     },
     "metadata": {},
     "output_type": "display_data"
    }
   ],
   "source": [
    "date_retweets.created_at.value_counts().plot()\n",
    "plt.xticks(rotation=60)\n"
   ]
  },
  {
   "cell_type": "code",
   "execution_count": 91,
   "metadata": {},
   "outputs": [],
   "source": [
    " date_retweets = tweets_df[(tweets_df.created_at < \"2018-04-23\") & (~tweets_df.retweet_count.isnull())]"
   ]
  },
  {
   "cell_type": "code",
   "execution_count": 7,
   "metadata": {},
   "outputs": [],
   "source": [
    "date_retweets_sample=date_retweets.sample(5000)"
   ]
  },
  {
   "cell_type": "code",
   "execution_count": 77,
   "metadata": {},
   "outputs": [
    {
     "data": {
      "text/plain": [
       "(array([ 735933.,  736024.,  736116.,  736208.,  736299.,  736389.,\n",
       "         736481.,  736573.,  736664.,  736754.,  736846.]),\n",
       " <a list of 11 Text xticklabel objects>)"
      ]
     },
     "execution_count": 77,
     "metadata": {},
     "output_type": "execute_result"
    },
    {
     "data": {
      "image/png": "[encoded data removed]",
      "text/plain": [
       "<matplotlib.figure.Figure at 0x30093f9a90>"
      ]
     },
     "metadata": {},
     "output_type": "display_data"
    }
   ],
   "source": [
    "date= plt.plot_date(data=tweets_df, x=\"created_at\", y=\"retweet_count\", fmt=\"go\")\n",
    "plt.xticks(rotation=60)\n"
   ]
  },
  {
   "cell_type": "code",
   "execution_count": 100,
   "metadata": {},
   "outputs": [
    {
     "data": {
      "image/png": "[encoded data removed]",
      "text/plain": [
       "<matplotlib.figure.Figure at 0x300c3ed748>"
      ]
     },
     "metadata": {},
     "output_type": "display_data"
    }
   ],
   "source": [
    "date2= plt.plot_date(data=date_retweets2, x=\"created_at\", y=\"retweet_count\")\n",
    "plt.xticks(rotation=90)\n",
    "ax = plt.subplot()\n",
    "ax.xaxis.set_major_formatter(mdates.DateFormatter(\"%d-%m-%Y\"))\n"
   ]
  },
  {
   "cell_type": "code",
   "execution_count": 117,
   "metadata": {},
   "outputs": [
    {
     "data": {
      "text/plain": [
       "<seaborn.axisgrid.FacetGrid at 0x300c78c978>"
      ]
     },
     "execution_count": 117,
     "metadata": {},
     "output_type": "execute_result"
    },
    {
     "data": {
      "image/png": "[encoded data removed]",
      "text/plain": [
       "<matplotlib.figure.Figure at 0x300abc5240>"
      ]
     },
     "metadata": {},
     "output_type": "display_data"
    }
   ],
   "source": [
    "v=sns.factorplot(data=tweets_df, x=\"name\", y=\"favorite_count\", kind=\"box\")\n",
    "plt.xticks(rotation=60)\n",
    "v.set(yscale=\"log\")"
   ]
  },
  {
   "cell_type": "code",
   "execution_count": 119,
   "metadata": {},
   "outputs": [
    {
     "data": {
      "text/plain": [
       "(array([0, 1, 2, 3, 4, 5, 6, 7]), <a list of 8 Text xticklabel objects>)"
      ]
     },
     "execution_count": 119,
     "metadata": {},
     "output_type": "execute_result"
    },
    {
     "data": {
      "image/png": "[encoded data removed]",
      "text/plain": [
       "<matplotlib.figure.Figure at 0x3012e572b0>"
      ]
     },
     "metadata": {},
     "output_type": "display_data"
    }
   ],
   "source": [
    "v=sns.factorplot(data=tweets_df, x=\"name\", y=\"favorite_count\", kind=\"bar\")\n",
    "plt.xticks(rotation=60)\n"
   ]
  },
  {
   "cell_type": "code",
   "execution_count": null,
   "metadata": {
    "collapsed": true
   },
   "outputs": [],
   "source": []
  }
 ],
 "metadata": {
  "kernelspec": {
   "display_name": "Python 3",
   "language": "python",
   "name": "python3"
  },
  "language_info": {
   "codemirror_mode": {
    "name": "ipython",
    "version": 3
   },
   "file_extension": ".py",
   "mimetype": "text/x-python",
   "name": "python",
   "nbconvert_exporter": "python",
   "pygments_lexer": "ipython3",
   "version": "3.6.1"
  }
 },
 "nbformat": 4,
 "nbformat_minor": 2
}
